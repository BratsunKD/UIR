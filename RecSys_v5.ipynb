{
  "cells": [
    {
      "cell_type": "markdown",
      "metadata": {
        "id": "T6iJ1mDsIcz_"
      },
      "source": [
        "# RuMedSymptomRec\n",
        "\n",
        "RuMedSymptomRec[1] - задача рекомендации симптомов по неполноценному медицинскому тексту."
      ]
    },
    {
      "cell_type": "markdown",
      "metadata": {
        "id": "epd5ZAVkIgSz"
      },
      "source": [
        "## **Структура решения:**\n",
        "\n",
        "1. Описание задачи и предметной области\n",
        "1. Реализация метрики Hit@K\n",
        "1. Подготовка данных\n",
        "1. RuBERT\n",
        "1. RuBioRoBERTa\n",
        "1. Пример работы модели\n",
        "1. Результаты\n",
        "1. Ссылки на источники\n"
      ]
    },
    {
      "cell_type": "markdown",
      "metadata": {
        "id": "9xZLXEG6IgXD"
      },
      "source": [
        "## **1) Описание задачи и предметной области**"
      ]
    },
    {
      "cell_type": "markdown",
      "metadata": {
        "id": "6z88Uwd4IkdS"
      },
      "source": [
        "### Постановка задачи\n",
        "\n",
        "По предложенному медицинскому тексту необходимо найти наиболее релевантый(точный) симптом. Количество возможных симптомов ограничено - можно предложить один из 141-го. В следствие этого задачу можно решать как задачу многоклассовой классификации ."
      ]
    },
    {
      "cell_type": "markdown",
      "metadata": {
        "id": "Xu5t-KrHImjh"
      },
      "source": [
        "### Данные\n",
        "Данные[2] были получены из Сибирского государственного медицинского университета. Датасет состоит из 3300 примеров, разделенных на тренировочную, валидационную и тестовую модель(2470, 415, 415). Каждый пример представляет собой словарь:\n",
        "> {'idx': 'q0d8323b',\n",
        "> 'symptoms': 'на головокружение головную боль в области виска лба, заложенность носа, жар',\n",
        "> 'code': 'головная боль в области лба'}.\n",
        "\n",
        " Где 'idx' - id текста, 'symptoms' - сам текст и 'code' - симптом которой надо предсказать(один из 141 предложенных таргетов)."
      ]
    },
    {
      "cell_type": "markdown",
      "metadata": {
        "id": "AZDARckkIrJK"
      },
      "source": [
        "### Метрики\n",
        "Задача сводится к классификации текстов. Для каждого текста предложено выбрать один из 141-го симптомов.\n",
        "Метрики предложенные организаторами - accuracy(hit@1) и hit@3.\n",
        "\n",
        "$$ \\text{Hits@K} = \\frac{1}{N}\\sum_{i=1}^N \\, hit(y_i, top_i^k),$$\n",
        "\n",
        "Было принято решение использовать такие же для оценки моделей."
      ]
    },
    {
      "cell_type": "markdown",
      "metadata": {
        "id": "5Lsr5tZjIwnS"
      },
      "source": [
        "### Модели\n",
        "\n",
        "В качестве базовой модели была выбрана предобученная модель DeepPavlov/rubert-base-cased [3]. Это Bert предобученный на русском языке(википедия и новости). Состоит из 12 encoder слоев. В общей сложности 180М параметров.\n",
        "Продвинутая модель - alexyalunin/RuBioRoBERTa [4]. RuBioRoBERTa - предобученная на русских медицинских текстах.\n",
        "\n",
        "\n",
        "Модель принимает на вход токены(полученные предварительно с помощью токенайзера) и выдает числа(логиты) для каждого класса. Логиты ранжируются в порядке убывания. Класс который оказался на 1 месте - есть искомый симптом. Если надо получить несколько наиболее релевантных - берется топ@k.\n",
        "\n",
        "\n",
        "Результаты[5] показанные организаторами на тестовой выборке: acc/hit@3  \n",
        "* RuBERT: 18.55/34.22\n",
        "* RuBioRoBERTa : 44.01/58.95\n",
        "\n",
        "\n",
        "\n",
        "\n",
        "\n",
        "\n"
      ]
    },
    {
      "cell_type": "markdown",
      "metadata": {
        "id": "dX8rNTr6IyPp"
      },
      "source": [
        "## **2) Реализация метрики Hit@K**"
      ]
    },
    {
      "cell_type": "code",
      "execution_count": null,
      "metadata": {
        "id": "wIcyL2q-_R0a",
        "outputId": "1f458893-a273-4b4f-cf08-6bd8fc7c2b6c"
      },
      "outputs": [
        {
          "name": "stderr",
          "output_type": "stream",
          "text": [
            "/home/kirill/anaconda_envs/bert_v2/lib/python3.10/site-packages/tqdm/auto.py:21: TqdmWarning: IProgress not found. Please update jupyter and ipywidgets. See https://ipywidgets.readthedocs.io/en/stable/user_install.html\n",
            "  from .autonotebook import tqdm as notebook_tqdm\n",
            "2024-06-06 06:37:22.121326: I tensorflow/core/platform/cpu_feature_guard.cc:210] This TensorFlow binary is optimized to use available CPU instructions in performance-critical operations.\n",
            "To enable the following instructions: AVX2 FMA, in other operations, rebuild TensorFlow with the appropriate compiler flags.\n",
            "2024-06-06 06:37:23.360472: W tensorflow/compiler/tf2tensorrt/utils/py_utils.cc:38] TF-TRT Warning: Could not find TensorRT\n"
          ]
        }
      ],
      "source": [
        "import gc\n",
        "import os\n",
        "import pandas as pd\n",
        "import numpy as np\n",
        "import json\n",
        "from tqdm import tqdm\n",
        "import unittest\n",
        "\n",
        "import random\n",
        "\n",
        "import torch\n",
        "from torch.utils.data import TensorDataset, DataLoader\n",
        "from transformers import BertTokenizer, BertForSequenceClassification, RobertaTokenizer,RobertaForSequenceClassification\n",
        "\n",
        "\n",
        "from scipy.special import expit\n",
        "from keras.preprocessing.sequence import pad_sequences\n",
        "\n",
        "import matplotlib.pyplot as plt\n",
        "import torch.nn as nn\n",
        "import warnings\n",
        "warnings.filterwarnings(\"ignore\")"
      ]
    },
    {
      "cell_type": "code",
      "execution_count": null,
      "metadata": {
        "id": "645DLEZ9_R0d"
      },
      "outputs": [],
      "source": [
        "MAX_LEN=256"
      ]
    },
    {
      "cell_type": "code",
      "execution_count": null,
      "metadata": {
        "id": "2HSmNP8K_R0e",
        "outputId": "bbb7e250-554f-4c30-a754-393dd62a4d17"
      },
      "outputs": [
        {
          "data": {
            "text/plain": [
              "device(type='cuda')"
            ]
          },
          "execution_count": 5,
          "metadata": {},
          "output_type": "execute_result"
        }
      ],
      "source": [
        "device = torch.device('cuda' if torch.cuda.is_available() else 'cpu')\n",
        "device"
      ]
    },
    {
      "cell_type": "code",
      "execution_count": null,
      "metadata": {
        "id": "2VCUj_jZ_R0g"
      },
      "outputs": [],
      "source": [
        "def hit_at_n(y_true, p_pred, n):\n",
        "    assert len(y_true) == len(p_pred)\n",
        "    hit_count = 0\n",
        "    for pred_sample, true_sample in zip(p_pred, y_true):\n",
        "        p2i = {pred_sample[i] : i for i in range(len(true_sample))}\n",
        "        p2i = dict(sorted(p2i.items(), key=lambda x : x[0], reverse=True))\n",
        "        if np.argmax(true_sample) in set(list(p2i.values())[:n]):\n",
        "            hit_count += 1\n",
        "\n",
        "    return hit_count/float(len(y_true))"
      ]
    },
    {
      "cell_type": "code",
      "execution_count": null,
      "metadata": {
        "id": "8Lji0J9D_R0g",
        "outputId": "0c77e46a-c43f-49ca-c091-67729e92065d"
      },
      "outputs": [
        {
          "name": "stderr",
          "output_type": "stream",
          "text": [
            ".\n",
            "----------------------------------------------------------------------\n",
            "Ran 1 test in 0.001s\n",
            "\n",
            "OK\n"
          ]
        },
        {
          "data": {
            "text/plain": [
              "<unittest.main.TestProgram at 0x7f3285887f10>"
            ]
          },
          "execution_count": 7,
          "metadata": {},
          "output_type": "execute_result"
        }
      ],
      "source": [
        "class hit_at_n_test(unittest.TestCase):\n",
        "    def test_hit_at_n(self):\n",
        "        self.assertEqual(hit_at_n([[0, 0, 1, 0]], [[4, 5, 1, 3]], 3), 0.0)\n",
        "        self.assertEqual(hit_at_n([[0, 1, 0]], [[4, 5, 1]], 3), 1.0)\n",
        "        self.assertEqual(hit_at_n([[0, 1, 0], [0, 1, 0]], [[4, 5, 1], [3, 6, 1]], 2), 1.0)\n",
        "        self.assertEqual(hit_at_n([[0, 1, 0], [0, 0, 1]], [[4, 5, 1], [3, 6, 1]], 2), 0.5)\n",
        "\n",
        "unittest.main(argv=['first-arg-is-ignored'], exit=False)"
      ]
    },
    {
      "cell_type": "markdown",
      "metadata": {
        "id": "bboc-U73_R0h"
      },
      "source": [
        "## **3) Подготовка данных**"
      ]
    },
    {
      "cell_type": "code",
      "execution_count": null,
      "metadata": {
        "id": "TVYLfXK8_R0h"
      },
      "outputs": [],
      "source": [
        "data_path = '/home/kirill/Bert_v2/data'"
      ]
    },
    {
      "cell_type": "code",
      "execution_count": null,
      "metadata": {
        "id": "IthOmrOq_R0i"
      },
      "outputs": [],
      "source": [
        "text1_id, label_id, index_id = 'symptoms', 'code', 'idx'\n",
        "parts = ['train', 'dev', 'test']"
      ]
    },
    {
      "cell_type": "code",
      "execution_count": null,
      "metadata": {
        "id": "FyG9a-cf_R0i",
        "outputId": "2842176d-45d7-488f-aac3-f80c326643f5"
      },
      "outputs": [
        {
          "name": "stdout",
          "output_type": "stream",
          "text": [
            "len(total) 3300\n"
          ]
        }
      ],
      "source": [
        "part2indices = {p:set() for p in parts}\n",
        "all_ids, sentences, labels = [], [], []\n",
        "for p in parts:\n",
        "    fname = '{}_v1.jsonl'.format(p)\n",
        "    with open(os.path.join(data_path, fname)) as f:\n",
        "        for line in f:\n",
        "            data = json.loads(line)\n",
        "            s1 = data[text1_id]\n",
        "            sentences.append( s1 )\n",
        "            labels.append( data[label_id] )\n",
        "            idx = data[index_id]\n",
        "            all_ids.append( idx )\n",
        "            part2indices[p].add( idx )\n",
        "all_ids = np.array(all_ids)\n",
        "print ('len(total)', len(sentences))"
      ]
    },
    {
      "cell_type": "markdown",
      "metadata": {
        "id": "aOc8h4fG_R0j"
      },
      "source": [
        "Вид одного отзыва:"
      ]
    },
    {
      "cell_type": "code",
      "execution_count": null,
      "metadata": {
        "id": "pTzZRoEW_R0j",
        "outputId": "626ae701-f805-48b4-f5a4-85aac6d8b245"
      },
      "outputs": [
        {
          "data": {
            "text/plain": [
              "{'idx': 'q0d8323b',\n",
              " 'symptoms': 'на головокружение головную боль в области виска лба, заложенность носа, жар',\n",
              " 'code': 'головная боль в области лба'}"
            ]
          },
          "execution_count": 11,
          "metadata": {},
          "output_type": "execute_result"
        }
      ],
      "source": [
        "data"
      ]
    },
    {
      "cell_type": "markdown",
      "metadata": {
        "id": "XXXXSM_f_R0j"
      },
      "source": [
        "Закодируем метки класса(симптомы) индексами"
      ]
    },
    {
      "cell_type": "code",
      "execution_count": null,
      "metadata": {
        "id": "oM4k8n8__R0j",
        "outputId": "1baf1f4e-3837-4d7a-c5e9-e64ac509312d"
      },
      "outputs": [
        {
          "name": "stdout",
          "output_type": "stream",
          "text": [
            "len(l2i) 141\n"
          ]
        }
      ],
      "source": [
        "code_set = set(labels)\n",
        "l2i = {code:i for i, code in enumerate(sorted(code_set))}\n",
        "i2l = {l2i[l]:l for l in l2i}\n",
        "print ( 'len(l2i)', len(l2i) )"
      ]
    },
    {
      "cell_type": "markdown",
      "metadata": {
        "id": "Qk0ta1TQ_R0j"
      },
      "source": [
        "Функция для преобразования текста в токены и их индексация с помощью tokenizer"
      ]
    },
    {
      "cell_type": "code",
      "execution_count": null,
      "metadata": {
        "id": "aPB1_Tkj_R0j"
      },
      "outputs": [],
      "source": [
        "def encode_texts(tokenizer, sentences):\n",
        "    bs = 20000\n",
        "    input_ids, attention_masks = [], []\n",
        "    for _, i in enumerate(range(0, len(sentences), bs)):\n",
        "        b_sentences = ['[CLS] ' + sentence + ' [SEP]' for sentence in sentences[i:i+bs]]\n",
        "        tokenized_texts = [tokenizer.tokenize(sent) for sent in b_sentences]\n",
        "        b_input_ids = [tokenizer.convert_tokens_to_ids(x) for x in tokenized_texts]\n",
        "        b_input_ids = pad_sequences(b_input_ids, maxlen=MAX_LEN, dtype='long', truncating='post', padding='post')\n",
        "        b_attention_masks = []\n",
        "        for seq in b_input_ids:\n",
        "            seq_mask = [float(i>0) for i in seq]\n",
        "            b_attention_masks.append(seq_mask)\n",
        "\n",
        "        attention_masks.append(b_attention_masks)\n",
        "        input_ids.append(b_input_ids)\n",
        "    input_ids, attention_masks = np.vstack(input_ids), np.vstack(attention_masks)\n",
        "    return input_ids, attention_masks"
      ]
    },
    {
      "cell_type": "code",
      "execution_count": null,
      "metadata": {
        "id": "nx4zo0If_R0k"
      },
      "outputs": [],
      "source": [
        "tokenizer = BertTokenizer.from_pretrained(\n",
        "    'DeepPavlov/rubert-base-cased', #'alexyalunin/RuBioBERT'\n",
        "    do_lower_case=True,\n",
        "    max_length=MAX_LEN\n",
        ")"
      ]
    },
    {
      "cell_type": "code",
      "execution_count": null,
      "metadata": {
        "id": "JJkk0J8E_R0k"
      },
      "outputs": [],
      "source": [
        "input_ids, attention_masks = encode_texts(tokenizer, sentences)"
      ]
    },
    {
      "cell_type": "code",
      "execution_count": null,
      "metadata": {
        "id": "dFIjQmH0_R0k"
      },
      "outputs": [],
      "source": [
        "label_indices = np.array([l2i[l] for l in labels])\n",
        "labels = np.zeros((input_ids.shape[0], len(l2i)))\n",
        "for _, i in enumerate(label_indices):\n",
        "    labels[_, i] = 1"
      ]
    },
    {
      "cell_type": "code",
      "execution_count": null,
      "metadata": {
        "id": "W3Qhxezp_R0k"
      },
      "outputs": [],
      "source": [
        "batch_size = 4"
      ]
    },
    {
      "cell_type": "code",
      "execution_count": null,
      "metadata": {
        "id": "KFccl2VJ_R0k"
      },
      "outputs": [],
      "source": [
        "def preprocess_data(input_ids, attention_masks):\n",
        "    test_ids = part2indices['test']\n",
        "\n",
        "    test_mask = np.array([sid in test_ids for sid in all_ids])\n",
        "    test_ids = all_ids[test_mask]\n",
        "    tst_inputs, tst_masks, tst_labels = input_ids[test_mask], attention_masks[test_mask], labels[test_mask]\n",
        "\n",
        "    tst_inputs = torch.tensor(tst_inputs)\n",
        "    tst_masks = torch.tensor(tst_masks)\n",
        "    tst_labels = torch.tensor(tst_labels)\n",
        "\n",
        "    test_data = TensorDataset(tst_inputs, tst_masks, tst_labels)\n",
        "    test_dataloader = DataLoader(test_data, batch_size=batch_size)\n",
        "\n",
        "\n",
        "    train_ids = part2indices['train']\n",
        "    dev_ids = part2indices['dev']\n",
        "\n",
        "    train_mask = np.array([sid in train_ids for sid in all_ids])\n",
        "    dev_mask = np.array([sid in dev_ids for sid in all_ids])\n",
        "\n",
        "    input_ids_train, attention_masks_train, labels_train = input_ids[train_mask], attention_masks[train_mask], labels[train_mask]\n",
        "    input_ids_dev, attention_masks_dev, labels_dev = input_ids[dev_mask], attention_masks[dev_mask], labels[dev_mask]\n",
        "\n",
        "    input_ids_train = torch.tensor(input_ids_train)\n",
        "    attention_masks_train = torch.tensor(attention_masks_train)\n",
        "    labels_train = torch.tensor(labels_train)\n",
        "\n",
        "    train_data = TensorDataset(input_ids_train, attention_masks_train, labels_train)\n",
        "    train_dataloader = DataLoader(train_data, batch_size=batch_size)\n",
        "\n",
        "    input_ids_dev = torch.tensor(input_ids_dev)\n",
        "    attention_masks_dev = torch.tensor(attention_masks_dev)\n",
        "    labels_dev = torch.tensor(labels_dev)\n",
        "\n",
        "    prediction_data = TensorDataset(input_ids_dev, attention_masks_dev, labels_dev)\n",
        "    prediction_dataloader = DataLoader(prediction_data, batch_size=batch_size)\n",
        "    return prediction_dataloader,  train_dataloader, test_dataloader"
      ]
    },
    {
      "cell_type": "code",
      "execution_count": null,
      "metadata": {
        "id": "0egMT0Mu_R0k"
      },
      "outputs": [],
      "source": [
        "prediction_dataloader,  train_dataloader, test_dataloader = preprocess_data(input_ids, attention_masks)"
      ]
    },
    {
      "cell_type": "markdown",
      "metadata": {
        "id": "UeuagbKu_R0k"
      },
      "source": [
        "## **4) rubert-base-cased**"
      ]
    },
    {
      "cell_type": "code",
      "execution_count": null,
      "metadata": {
        "colab": {
          "referenced_widgets": [
            "844a55399f0c4da59fe678d7b5961fc1"
          ]
        },
        "id": "c3nVqw7Y_R0l",
        "outputId": "305a7148-8a53-4b88-a2d6-16182fe97b82"
      },
      "outputs": [
        {
          "name": "stderr",
          "output_type": "stream",
          "text": [
            "Some weights of BertForSequenceClassification were not initialized from the model checkpoint at DeepPavlov/rubert-base-cased and are newly initialized: ['classifier.bias', 'classifier.weight']\n",
            "You should probably TRAIN this model on a down-stream task to be able to use it for predictions and inference.\n"
          ]
        }
      ],
      "source": [
        "model = BertForSequenceClassification.from_pretrained('DeepPavlov/rubert-base-cased', num_labels=141)\n",
        "model = model.cuda()"
      ]
    },
    {
      "cell_type": "code",
      "execution_count": null,
      "metadata": {
        "id": "daQuj9yH_R0l"
      },
      "outputs": [],
      "source": [
        "lr = 3e-5\n",
        "epochs = 20\n",
        "optimizer = torch.optim.Adam(model.parameters(), lr=lr)\n",
        "scheduler = torch.optim.lr_scheduler.OneCycleLR(optimizer, max_lr=lr, steps_per_epoch=len(train_dataloader), epochs=epochs)\n",
        "criterion = nn.CrossEntropyLoss()"
      ]
    },
    {
      "cell_type": "markdown",
      "metadata": {
        "id": "6_H0sjPf_R0l"
      },
      "source": [
        "### Обучениe модели\n",
        "\n",
        "Обучение с помощью оптимизатора Adam[6]. Функция потерь - кросс-энтропия.\n",
        "Модель обучалась на 20 эпохах с циклическим уменьшением lr[7](начальный - lr = 3e-5)"
      ]
    },
    {
      "cell_type": "code",
      "execution_count": null,
      "metadata": {
        "id": "Kae7L2Qa_R0l"
      },
      "outputs": [],
      "source": [
        "def train(model, optimizer, scheduler, criterion):\n",
        "    h3_val = []\n",
        "    h3_train = []\n",
        "\n",
        "    train_losses = []\n",
        "    val_losses = []\n",
        "    acc_train = []\n",
        "    acc_val = []\n",
        "    best_score_val = 0\n",
        "    for i in tqdm(range(epochs)):\n",
        "        model.train(); torch.cuda.empty_cache()\n",
        "        p_pred_train = []\n",
        "        y_pred_train = []\n",
        "        losses = 0\n",
        "        losses_step = 0\n",
        "        for step, batch in enumerate(train_dataloader):\n",
        "            batch = tuple(t.to(device) for t in batch)\n",
        "            b_input_ids, b_input_mask, b_labels = batch\n",
        "            optimizer.zero_grad()\n",
        "\n",
        "            outputs = model( b_input_ids, attention_mask=b_input_mask, labels=b_labels)\n",
        "            loss, logits = outputs[:2]\n",
        "            p_pred_train.extend(logits.detach().cpu().numpy())\n",
        "            y_pred_train.extend(b_labels.detach().cpu().numpy())\n",
        "            loss = criterion(logits, b_labels.to(device))\n",
        "            losses += loss.item()\n",
        "            losses_step += 1\n",
        "            loss.backward()\n",
        "            optimizer.step()\n",
        "            scheduler.step()\n",
        "\n",
        "        train_losses.append(losses / float(losses_step))\n",
        "        h3_train.append(hit_at_n(y_pred_train, p_pred_train, 3))\n",
        "        acc_train.append(hit_at_n(y_pred_train, p_pred_train, 1))\n",
        "\n",
        "        model.eval()\n",
        "        p_pred_val = []\n",
        "        y_pred_val = []\n",
        "        losses = 0\n",
        "        losses_step = 0\n",
        "        for step, batch in enumerate(prediction_dataloader):\n",
        "            batch = tuple(t.to(device) for t in batch)\n",
        "            b_input_ids, b_input_mask, b_labels = batch\n",
        "            with torch.no_grad():\n",
        "                outputs = model( b_input_ids, attention_mask=b_input_mask, labels=b_labels )\n",
        "                loss, logits = outputs[:2]\n",
        "                losses += loss.item()\n",
        "                losses_step += 1\n",
        "            p_pred_val.extend(logits.detach().cpu().numpy())\n",
        "            y_pred_val.extend(b_labels.detach().cpu().numpy())\n",
        "\n",
        "        val_losses.append(losses / float(losses_step))\n",
        "        h3_val.append(hit_at_n(y_pred_val, p_pred_val, 3))\n",
        "        acc_val.append(hit_at_n(y_pred_val, p_pred_val, 1))\n",
        "        acc = hit_at_n(y_pred_val, p_pred_val, 1)\n",
        "\n",
        "        if (acc + h3_val[-1]) / 2 >= best_score_val:\n",
        "            best_score_val = (acc + h3_val[-1]) / 2\n",
        "            best_epoch_val = i\n",
        "\n",
        "            p_pred_test = []\n",
        "            y_pred_test = []\n",
        "            for step, batch in enumerate(test_dataloader):\n",
        "                batch = tuple(t.to(device) for t in batch)\n",
        "                b_input_ids, b_input_mask, b_labels = batch\n",
        "                with torch.no_grad():\n",
        "                    outputs = model( b_input_ids, attention_mask=b_input_mask, labels=b_labels )\n",
        "                    loss, logits = outputs[:2]\n",
        "                p_pred_test.extend(logits.detach().cpu().numpy())\n",
        "                y_pred_test.extend(b_labels.detach().cpu().numpy())\n",
        "                best_hit3 = hit_at_n(y_pred_test, p_pred_test, 3)\n",
        "                best_acc = hit_at_n(y_pred_test, p_pred_test, 1)\n",
        "\n",
        "        print('epoch ', i,  'train_loss',  train_losses[-1],'acc',  acc_val[-1], 'hit3', h3_val[-1])\n",
        "    return h3_val, h3_train, val_losses, train_losses, best_epoch_val, best_acc, best_hit3, acc_val, acc_train"
      ]
    },
    {
      "cell_type": "code",
      "execution_count": null,
      "metadata": {
        "id": "YcCltRpA_R0m",
        "outputId": "e9dc3337-7b4b-465e-c030-f5a366f46e20",
        "scrolled": true
      },
      "outputs": [
        {
          "name": "stderr",
          "output_type": "stream",
          "text": [
            "  5%|▌         | 1/20 [05:19<1:41:11, 319.58s/it]"
          ]
        },
        {
          "name": "stdout",
          "output_type": "stream",
          "text": [
            "epoch  0 train_loss 4.94839187405256 acc 0.021686746987951807 hit3 0.03132530120481928\n"
          ]
        },
        {
          "name": "stderr",
          "output_type": "stream",
          "text": [
            " 10%|█         | 2/20 [10:27<1:33:47, 312.64s/it]"
          ]
        },
        {
          "name": "stdout",
          "output_type": "stream",
          "text": [
            "epoch  1 train_loss 4.905094738627715 acc 0.05542168674698795 hit3 0.10120481927710843\n"
          ]
        },
        {
          "name": "stderr",
          "output_type": "stream",
          "text": [
            " 15%|█▌        | 3/20 [15:34<1:27:54, 310.28s/it]"
          ]
        },
        {
          "name": "stdout",
          "output_type": "stream",
          "text": [
            "epoch  2 train_loss 4.671237907170478 acc 0.06987951807228916 hit3 0.1614457831325301\n"
          ]
        },
        {
          "name": "stderr",
          "output_type": "stream",
          "text": [
            " 20%|██        | 4/20 [20:41<1:22:23, 308.98s/it]"
          ]
        },
        {
          "name": "stdout",
          "output_type": "stream",
          "text": [
            "epoch  3 train_loss 4.296716238881392 acc 0.09397590361445783 hit3 0.20963855421686747\n"
          ]
        },
        {
          "name": "stderr",
          "output_type": "stream",
          "text": [
            " 25%|██▌       | 5/20 [25:48<1:17:03, 308.27s/it]"
          ]
        },
        {
          "name": "stdout",
          "output_type": "stream",
          "text": [
            "epoch  4 train_loss 3.862754678456143 acc 0.12530120481927712 hit3 0.25783132530120484\n"
          ]
        },
        {
          "name": "stderr",
          "output_type": "stream",
          "text": [
            " 30%|███       | 6/20 [30:55<1:11:49, 307.84s/it]"
          ]
        },
        {
          "name": "stdout",
          "output_type": "stream",
          "text": [
            "epoch  5 train_loss 3.393376900395529 acc 0.13734939759036144 hit3 0.29397590361445786\n"
          ]
        },
        {
          "name": "stderr",
          "output_type": "stream",
          "text": [
            " 35%|███▌      | 7/20 [36:02<1:06:38, 307.59s/it]"
          ]
        },
        {
          "name": "stdout",
          "output_type": "stream",
          "text": [
            "epoch  6 train_loss 2.878524868764152 acc 0.17349397590361446 hit3 0.3349397590361446\n"
          ]
        },
        {
          "name": "stderr",
          "output_type": "stream",
          "text": [
            " 40%|████      | 8/20 [41:09<1:01:29, 307.42s/it]"
          ]
        },
        {
          "name": "stdout",
          "output_type": "stream",
          "text": [
            "epoch  7 train_loss 2.347981749403872 acc 0.2289156626506024 hit3 0.38313253012048193\n"
          ]
        },
        {
          "name": "stderr",
          "output_type": "stream",
          "text": [
            " 45%|████▌     | 9/20 [46:17<56:20, 307.32s/it]  "
          ]
        },
        {
          "name": "stdout",
          "output_type": "stream",
          "text": [
            "epoch  8 train_loss 1.814499514593372 acc 0.24819277108433735 hit3 0.3927710843373494\n"
          ]
        },
        {
          "name": "stderr",
          "output_type": "stream",
          "text": [
            " 50%|█████     | 10/20 [51:24<51:12, 307.22s/it]"
          ]
        },
        {
          "name": "stdout",
          "output_type": "stream",
          "text": [
            "epoch  9 train_loss 1.3126887977846617 acc 0.25542168674698795 hit3 0.41686746987951806\n"
          ]
        },
        {
          "name": "stderr",
          "output_type": "stream",
          "text": [
            " 55%|█████▌    | 11/20 [56:31<46:04, 307.19s/it]"
          ]
        },
        {
          "name": "stdout",
          "output_type": "stream",
          "text": [
            "epoch  10 train_loss 0.9248526225840028 acc 0.28433734939759037 hit3 0.40481927710843374\n"
          ]
        },
        {
          "name": "stderr",
          "output_type": "stream",
          "text": [
            " 60%|██████    | 12/20 [1:01:38<40:57, 307.16s/it]"
          ]
        },
        {
          "name": "stdout",
          "output_type": "stream",
          "text": [
            "epoch  11 train_loss 0.6273143773244447 acc 0.27951807228915665 hit3 0.40963855421686746\n"
          ]
        },
        {
          "name": "stderr",
          "output_type": "stream",
          "text": [
            " 65%|██████▌   | 13/20 [1:06:45<35:49, 307.14s/it]"
          ]
        },
        {
          "name": "stdout",
          "output_type": "stream",
          "text": [
            "epoch  12 train_loss 0.4320685682399349 acc 0.3036144578313253 hit3 0.43132530120481927\n"
          ]
        },
        {
          "name": "stderr",
          "output_type": "stream",
          "text": [
            " 70%|███████   | 14/20 [1:11:52<30:42, 307.16s/it]"
          ]
        },
        {
          "name": "stdout",
          "output_type": "stream",
          "text": [
            "epoch  13 train_loss 0.2954824407039433 acc 0.3108433734939759 hit3 0.44096385542168676\n"
          ]
        },
        {
          "name": "stderr",
          "output_type": "stream",
          "text": [
            " 75%|███████▌  | 15/20 [1:16:59<25:35, 307.14s/it]"
          ]
        },
        {
          "name": "stdout",
          "output_type": "stream",
          "text": [
            "epoch  14 train_loss 0.21331935036026278 acc 0.3228915662650602 hit3 0.4530120481927711\n"
          ]
        },
        {
          "name": "stderr",
          "output_type": "stream",
          "text": [
            " 80%|████████  | 16/20 [1:22:06<20:28, 307.15s/it]"
          ]
        },
        {
          "name": "stdout",
          "output_type": "stream",
          "text": [
            "epoch  15 train_loss 0.16574898685523065 acc 0.3180722891566265 hit3 0.4602409638554217\n"
          ]
        },
        {
          "name": "stderr",
          "output_type": "stream",
          "text": [
            " 85%|████████▌ | 17/20 [1:26:53<15:03, 301.07s/it]"
          ]
        },
        {
          "name": "stdout",
          "output_type": "stream",
          "text": [
            "epoch  16 train_loss 0.1346039432180069 acc 0.3204819277108434 hit3 0.4530120481927711\n"
          ]
        },
        {
          "name": "stderr",
          "output_type": "stream",
          "text": [
            " 90%|█████████ | 18/20 [1:31:40<09:53, 296.80s/it]"
          ]
        },
        {
          "name": "stdout",
          "output_type": "stream",
          "text": [
            "epoch  17 train_loss 0.1191591368558663 acc 0.3132530120481928 hit3 0.4506024096385542\n"
          ]
        },
        {
          "name": "stderr",
          "output_type": "stream",
          "text": [
            " 95%|█████████▌| 19/20 [1:36:27<04:53, 293.83s/it]"
          ]
        },
        {
          "name": "stdout",
          "output_type": "stream",
          "text": [
            "epoch  18 train_loss 0.11028057025349172 acc 0.3156626506024096 hit3 0.4433734939759036\n"
          ]
        },
        {
          "name": "stderr",
          "output_type": "stream",
          "text": [
            "100%|██████████| 20/20 [1:41:14<00:00, 303.73s/it]"
          ]
        },
        {
          "name": "stdout",
          "output_type": "stream",
          "text": [
            "epoch  19 train_loss 0.10859592956367241 acc 0.3156626506024096 hit3 0.43614457831325304\n"
          ]
        },
        {
          "name": "stderr",
          "output_type": "stream",
          "text": [
            "\n"
          ]
        }
      ],
      "source": [
        "h3_val, h3_train, val_losses, train_losses, best_epoch_val, best_acc, best_hit3, acc_val, acc_train = train(model, optimizer, scheduler, criterion)"
      ]
    },
    {
      "cell_type": "code",
      "execution_count": null,
      "metadata": {
        "id": "86JelT6P_R0m"
      },
      "outputs": [],
      "source": [
        "def graph(val, train, title, y):\n",
        "    plt.plot(np.arange(len(val)), val, label='val', c='r')\n",
        "    plt.plot(np.arange(len(train)), train, label='train', c='g')\n",
        "    plt.xlabel('epoch')\n",
        "    plt.ylabel(y)\n",
        "    plt.legend()\n",
        "    plt.title(title)\n",
        "    plt.show()"
      ]
    },
    {
      "cell_type": "code",
      "execution_count": null,
      "metadata": {
        "id": "9XUGIeSg_R0m",
        "outputId": "ddf66d23-4b83-4d0c-a29f-353169836366"
      },
      "outputs": [
        {
          "data": {
            "image/png": "[encoded data removed]",
            "text/plain": [
              "<Figure size 640x480 with 1 Axes>"
            ]
          },
          "metadata": {},
          "output_type": "display_data"
        }
      ],
      "source": [
        "graph(val_losses, train_losses, 'Rubert-base-cased loss', 'loss')"
      ]
    },
    {
      "cell_type": "code",
      "execution_count": null,
      "metadata": {
        "id": "GO6n03ow_R0m",
        "outputId": "1b0b0568-424a-4950-cd88-4ed78f5cc80a"
      },
      "outputs": [
        {
          "data": {
            "image/png": "[encoded data removed]",
            "text/plain": [
              "<Figure size 640x480 with 1 Axes>"
            ]
          },
          "metadata": {},
          "output_type": "display_data"
        }
      ],
      "source": [
        "graph(acc_val, acc_train,'Rubert-base-cased accuracy', 'accuracy')"
      ]
    },
    {
      "cell_type": "code",
      "execution_count": null,
      "metadata": {
        "id": "Lua7YwLl_R0m",
        "outputId": "4772a898-7a26-4186-c51d-12627c441c90"
      },
      "outputs": [
        {
          "data": {
            "image/png": "[encoded data removed]",
            "text/plain": [
              "<Figure size 640x480 with 1 Axes>"
            ]
          },
          "metadata": {},
          "output_type": "display_data"
        }
      ],
      "source": [
        "graph(h3_val, h3_train,'Rubert-base-cased hit3', 'hit3')"
      ]
    },
    {
      "cell_type": "code",
      "execution_count": null,
      "metadata": {
        "id": "cmSmHmPP_R0m",
        "outputId": "b9fdb490-78a8-4cb1-9a0b-86f52e17692a"
      },
      "outputs": [
        {
          "data": {
            "text/plain": [
              "(15, 0.3542168674698795, 0.4819277108433735)"
            ]
          },
          "execution_count": 26,
          "metadata": {},
          "output_type": "execute_result"
        }
      ],
      "source": [
        "best_epoch_val, best_acc, best_hit3"
      ]
    },
    {
      "cell_type": "code",
      "execution_count": null,
      "metadata": {
        "id": "eCMuW4q__R0n"
      },
      "outputs": [],
      "source": [
        "model.save_pretrained('out_path/rubert')"
      ]
    },
    {
      "cell_type": "code",
      "execution_count": null,
      "metadata": {
        "id": "Xib1dDVBhoT8"
      },
      "outputs": [],
      "source": [
        "del model;\n",
        "del prediction_dataloader\n",
        "del train_dataloader\n",
        "del test_dataloader\n",
        "gc.collect();\n",
        "torch.cuda.empty_cache()"
      ]
    },
    {
      "cell_type": "markdown",
      "metadata": {
        "id": "i9PakWYc_R0n"
      },
      "source": [
        "## **5. RuBioRoBERTa**"
      ]
    },
    {
      "cell_type": "code",
      "execution_count": null,
      "metadata": {
        "id": "EJF6JPb1_R0n"
      },
      "outputs": [],
      "source": [
        "tokenizer = RobertaTokenizer.from_pretrained(\n",
        "    'alexyalunin/RuBioRoBERTa',\n",
        "    do_lower_case=True,\n",
        "    max_length=MAX_LEN\n",
        ")"
      ]
    },
    {
      "cell_type": "code",
      "execution_count": null,
      "metadata": {
        "id": "ToaUGdox_R0n"
      },
      "outputs": [],
      "source": [
        "batch_size = 4"
      ]
    },
    {
      "cell_type": "code",
      "execution_count": null,
      "metadata": {
        "id": "dwgPQ8Yx_R0n"
      },
      "outputs": [],
      "source": [
        "input_ids, attention_masks = encode_texts(tokenizer, sentences)"
      ]
    },
    {
      "cell_type": "code",
      "execution_count": null,
      "metadata": {
        "id": "_W0BMS67_R0n"
      },
      "outputs": [],
      "source": [
        "prediction_dataloader,  train_dataloader, test_dataloader = preprocess_data(input_ids, attention_masks)"
      ]
    },
    {
      "cell_type": "code",
      "execution_count": null,
      "metadata": {
        "colab": {
          "referenced_widgets": [
            "a65736cd7f554de3aeb314f08af2013c",
            "b316eaf9cc1847a69683b342befbfa8c"
          ]
        },
        "id": "Q3JMusTC_R0r",
        "outputId": "20be0f84-14db-4847-fb5b-07acb1dfdc07"
      },
      "outputs": [
        {
          "name": "stderr",
          "output_type": "stream",
          "text": [
            "Some weights of RobertaForSequenceClassification were not initialized from the model checkpoint at alexyalunin/RuBioRoBERTa and are newly initialized: ['classifier.dense.bias', 'classifier.dense.weight', 'classifier.out_proj.bias', 'classifier.out_proj.weight']\n",
            "You should probably TRAIN this model on a down-stream task to be able to use it for predictions and inference.\n"
          ]
        }
      ],
      "source": [
        "model = RobertaForSequenceClassification.from_pretrained('alexyalunin/RuBioRoBERTa', num_labels=141)\n",
        "model = model.cuda()"
      ]
    },
    {
      "cell_type": "markdown",
      "metadata": {
        "id": "4JRS9K3OJa4c"
      },
      "source": [
        "### Обучениe модели\n",
        "\n",
        "Обучение с помощью оптимизатора Adam. Функция потерь - кросс-энтропия.\n",
        "Модель обучалась на 25 эпохах с циклическим уменьшением lr(начальный - lr = 3e-5)"
      ]
    },
    {
      "cell_type": "code",
      "execution_count": null,
      "metadata": {
        "id": "JILhVIh5_R0s"
      },
      "outputs": [],
      "source": [
        "lr = 3e-5\n",
        "epochs = 25\n",
        "optimizer = torch.optim.Adam(model.parameters(), lr=lr)\n",
        "scheduler = torch.optim.lr_scheduler.OneCycleLR(optimizer, max_lr=lr, steps_per_epoch=len(train_dataloader), epochs=epochs)\n",
        "criterion = nn.CrossEntropyLoss()"
      ]
    },
    {
      "cell_type": "code",
      "execution_count": null,
      "metadata": {
        "id": "efLU8dbR_R0s",
        "outputId": "aba63d8f-3635-4635-90a3-5591220ea5ed"
      },
      "outputs": [
        {
          "name": "stderr",
          "output_type": "stream",
          "text": [
            "  4%|▍         | 1/25 [15:39<6:15:47, 939.49s/it]"
          ]
        },
        {
          "name": "stdout",
          "output_type": "stream",
          "text": [
            "epoch  0 train_loss 4.985305603460972 acc 0.004819277108433735 hit3 0.03855421686746988\n"
          ]
        },
        {
          "name": "stderr",
          "output_type": "stream",
          "text": [
            "  8%|▊         | 2/25 [31:21<6:00:38, 940.79s/it]"
          ]
        },
        {
          "name": "stdout",
          "output_type": "stream",
          "text": [
            "epoch  1 train_loss 4.952921646891288 acc 0.012048192771084338 hit3 0.05301204819277108\n"
          ]
        },
        {
          "name": "stderr",
          "output_type": "stream",
          "text": [
            " 12%|█▏        | 3/25 [47:02<5:45:03, 941.06s/it]"
          ]
        },
        {
          "name": "stdout",
          "output_type": "stream",
          "text": [
            "epoch  2 train_loss 4.922094295229341 acc 0.02650602409638554 hit3 0.06987951807228916\n"
          ]
        },
        {
          "name": "stderr",
          "output_type": "stream",
          "text": [
            " 16%|█▌        | 4/25 [1:02:43<5:29:24, 941.17s/it]"
          ]
        },
        {
          "name": "stdout",
          "output_type": "stream",
          "text": [
            "epoch  3 train_loss 4.722508547954189 acc 0.07951807228915662 hit3 0.1855421686746988\n"
          ]
        },
        {
          "name": "stderr",
          "output_type": "stream",
          "text": [
            " 20%|██        | 5/25 [1:18:25<5:13:46, 941.31s/it]"
          ]
        },
        {
          "name": "stdout",
          "output_type": "stream",
          "text": [
            "epoch  4 train_loss 4.1705742941801605 acc 0.12771084337349398 hit3 0.2987951807228916\n"
          ]
        },
        {
          "name": "stderr",
          "output_type": "stream",
          "text": [
            " 24%|██▍       | 6/25 [1:34:07<4:58:07, 941.43s/it]"
          ]
        },
        {
          "name": "stdout",
          "output_type": "stream",
          "text": [
            "epoch  5 train_loss 3.5782435879255963 acc 0.18313253012048192 hit3 0.39759036144578314\n"
          ]
        },
        {
          "name": "stderr",
          "output_type": "stream",
          "text": [
            " 28%|██▊       | 7/25 [1:49:48<4:42:25, 941.42s/it]"
          ]
        },
        {
          "name": "stdout",
          "output_type": "stream",
          "text": [
            "epoch  6 train_loss 2.995752230823088 acc 0.2433734939759036 hit3 0.42650602409638555\n"
          ]
        },
        {
          "name": "stderr",
          "output_type": "stream",
          "text": [
            " 32%|███▏      | 8/25 [2:05:30<4:26:44, 941.46s/it]"
          ]
        },
        {
          "name": "stdout",
          "output_type": "stream",
          "text": [
            "epoch  7 train_loss 2.413149137667781 acc 0.3253012048192771 hit3 0.4987951807228916\n"
          ]
        },
        {
          "name": "stderr",
          "output_type": "stream",
          "text": [
            " 36%|███▌      | 9/25 [2:21:11<4:11:03, 941.47s/it]"
          ]
        },
        {
          "name": "stdout",
          "output_type": "stream",
          "text": [
            "epoch  8 train_loss 1.8007459699682602 acc 0.3421686746987952 hit3 0.5445783132530121\n"
          ]
        },
        {
          "name": "stderr",
          "output_type": "stream",
          "text": [
            " 40%|████      | 10/25 [2:36:53<3:55:22, 941.51s/it]"
          ]
        },
        {
          "name": "stdout",
          "output_type": "stream",
          "text": [
            "epoch  9 train_loss 1.3512917217176141 acc 0.3783132530120482 hit3 0.5301204819277109\n"
          ]
        },
        {
          "name": "stderr",
          "output_type": "stream",
          "text": [
            " 44%|████▍     | 11/25 [2:52:34<3:39:41, 941.51s/it]"
          ]
        },
        {
          "name": "stdout",
          "output_type": "stream",
          "text": [
            "epoch  10 train_loss 0.9380195476581918 acc 0.39518072289156625 hit3 0.5590361445783133\n"
          ]
        },
        {
          "name": "stderr",
          "output_type": "stream",
          "text": [
            " 48%|████▊     | 12/25 [3:07:15<3:20:00, 923.13s/it]"
          ]
        },
        {
          "name": "stdout",
          "output_type": "stream",
          "text": [
            "epoch  11 train_loss 0.6269583631593969 acc 0.3783132530120482 hit3 0.5493975903614458\n"
          ]
        },
        {
          "name": "stderr",
          "output_type": "stream",
          "text": [
            " 52%|█████▏    | 13/25 [3:22:57<3:05:45, 928.77s/it]"
          ]
        },
        {
          "name": "stdout",
          "output_type": "stream",
          "text": [
            "epoch  12 train_loss 0.40797892453647777 acc 0.41204819277108434 hit3 0.5518072289156627\n"
          ]
        },
        {
          "name": "stderr",
          "output_type": "stream",
          "text": [
            " 56%|█████▌    | 14/25 [3:38:39<2:50:59, 932.71s/it]"
          ]
        },
        {
          "name": "stdout",
          "output_type": "stream",
          "text": [
            "epoch  13 train_loss 0.2239961970989701 acc 0.41445783132530123 hit3 0.5662650602409639\n"
          ]
        },
        {
          "name": "stderr",
          "output_type": "stream",
          "text": [
            " 60%|██████    | 15/25 [3:54:21<2:35:54, 935.49s/it]"
          ]
        },
        {
          "name": "stdout",
          "output_type": "stream",
          "text": [
            "epoch  14 train_loss 0.1482107367985927 acc 0.43855421686746987 hit3 0.5783132530120482\n"
          ]
        },
        {
          "name": "stderr",
          "output_type": "stream",
          "text": [
            " 64%|██████▍   | 16/25 [4:09:02<2:17:52, 919.17s/it]"
          ]
        },
        {
          "name": "stdout",
          "output_type": "stream",
          "text": [
            "epoch  15 train_loss 0.08904755987164047 acc 0.43373493975903615 hit3 0.5542168674698795\n"
          ]
        },
        {
          "name": "stderr",
          "output_type": "stream",
          "text": [
            " 68%|██████▊   | 17/25 [4:23:44<2:01:03, 907.89s/it]"
          ]
        },
        {
          "name": "stdout",
          "output_type": "stream",
          "text": [
            "epoch  16 train_loss 0.06305206939935967 acc 0.40963855421686746 hit3 0.5590361445783133\n"
          ]
        },
        {
          "name": "stderr",
          "output_type": "stream",
          "text": [
            " 72%|███████▏  | 18/25 [4:38:25<1:44:59, 899.91s/it]"
          ]
        },
        {
          "name": "stdout",
          "output_type": "stream",
          "text": [
            "epoch  17 train_loss 0.061680635597864256 acc 0.44096385542168676 hit3 0.5734939759036145\n"
          ]
        },
        {
          "name": "stderr",
          "output_type": "stream",
          "text": [
            " 76%|███████▌  | 19/25 [4:54:07<1:31:14, 912.46s/it]"
          ]
        },
        {
          "name": "stdout",
          "output_type": "stream",
          "text": [
            "epoch  18 train_loss 0.037296279530100444 acc 0.4530120481927711 hit3 0.5879518072289157\n"
          ]
        },
        {
          "name": "stderr",
          "output_type": "stream",
          "text": [
            " 80%|████████  | 20/25 [5:08:48<1:15:15, 903.18s/it]"
          ]
        },
        {
          "name": "stdout",
          "output_type": "stream",
          "text": [
            "epoch  19 train_loss 0.0283876506479937 acc 0.4530120481927711 hit3 0.5831325301204819\n"
          ]
        },
        {
          "name": "stderr",
          "output_type": "stream",
          "text": [
            " 84%|████████▍ | 21/25 [5:23:30<59:46, 896.61s/it]  "
          ]
        },
        {
          "name": "stdout",
          "output_type": "stream",
          "text": [
            "epoch  20 train_loss 0.021856526413155965 acc 0.45542168674698796 hit3 0.5855421686746988\n"
          ]
        },
        {
          "name": "stderr",
          "output_type": "stream",
          "text": [
            " 92%|█████████▏| 23/25 [5:52:52<29:37, 888.78s/it]"
          ]
        },
        {
          "name": "stdout",
          "output_type": "stream",
          "text": [
            "epoch  22 train_loss 0.01730195503372211 acc 0.4433734939759036 hit3 0.5903614457831325\n"
          ]
        },
        {
          "name": "stderr",
          "output_type": "stream",
          "text": [
            " 96%|█████████▌| 24/25 [6:07:33<14:46, 886.48s/it]"
          ]
        },
        {
          "name": "stdout",
          "output_type": "stream",
          "text": [
            "epoch  23 train_loss 0.0164184645925005 acc 0.44819277108433736 hit3 0.5855421686746988\n"
          ]
        },
        {
          "name": "stderr",
          "output_type": "stream",
          "text": [
            "100%|██████████| 25/25 [6:22:14<00:00, 917.40s/it]"
          ]
        },
        {
          "name": "stdout",
          "output_type": "stream",
          "text": [
            "epoch  24 train_loss 0.014874504476749493 acc 0.44819277108433736 hit3 0.5855421686746988\n"
          ]
        },
        {
          "name": "stderr",
          "output_type": "stream",
          "text": [
            "\n"
          ]
        }
      ],
      "source": [
        "h3_val, h3_train, val_losses, train_losses, best_epoch_val, best_acc, best_hit3, acc_val, acc_train = train(model, optimizer, scheduler, criterion)"
      ]
    },
    {
      "cell_type": "code",
      "execution_count": null,
      "metadata": {
        "id": "y0PKgNQH_R0s",
        "outputId": "5ee5facd-119e-45d1-9989-ca740c348df9"
      },
      "outputs": [
        {
          "data": {
            "image/png": "[encoded data removed]",
            "text/plain": [
              "<Figure size 640x480 with 1 Axes>"
            ]
          },
          "metadata": {},
          "output_type": "display_data"
        }
      ],
      "source": [
        "graph(val_losses, train_losses, 'RuBioRoBERTa loss', 'loss')"
      ]
    },
    {
      "cell_type": "code",
      "execution_count": null,
      "metadata": {
        "id": "srn3Mm6K_R0s",
        "outputId": "ad439028-f825-43ad-8c54-711db24f8f9a"
      },
      "outputs": [
        {
          "data": {
            "image/png": "[encoded data removed]",
            "text/plain": [
              "<Figure size 640x480 with 1 Axes>"
            ]
          },
          "metadata": {},
          "output_type": "display_data"
        }
      ],
      "source": [
        "graph(acc_val, acc_train,'RuBioRoBERTa accuracy', 'accuracy')"
      ]
    },
    {
      "cell_type": "code",
      "execution_count": null,
      "metadata": {
        "id": "On9_DQNK_R0s",
        "outputId": "b81bec95-e499-4618-dc65-fa3360efdeaa"
      },
      "outputs": [
        {
          "data": {
            "image/png": "[encoded data removed]",
            "text/plain": [
              "<Figure size 640x480 with 1 Axes>"
            ]
          },
          "metadata": {},
          "output_type": "display_data"
        }
      ],
      "source": [
        "graph(h3_val, h3_train,'RuBioRoBERTa hit3', 'hit3')"
      ]
    },
    {
      "cell_type": "code",
      "execution_count": null,
      "metadata": {
        "id": "PqhYDhU5_R0s",
        "outputId": "25d388b7-2918-4244-eba4-561547f25ff8"
      },
      "outputs": [
        {
          "data": {
            "text/plain": [
              "(18, 0.5012048192771085, 0.6265060240963856)"
            ]
          },
          "execution_count": 26,
          "metadata": {},
          "output_type": "execute_result"
        }
      ],
      "source": [
        "best_epoch_val, best_acc, best_hit3"
      ]
    },
    {
      "cell_type": "code",
      "execution_count": null,
      "metadata": {
        "id": "xp6cF9Qs_R0s"
      },
      "outputs": [],
      "source": [
        "model.save_pretrained('out_path/RuBioRoBERTa')"
      ]
    },
    {
      "cell_type": "markdown",
      "metadata": {
        "id": "0XoNWNVwhoT_"
      },
      "source": [
        "## **6) Пример работы модели**"
      ]
    },
    {
      "cell_type": "markdown",
      "metadata": {
        "id": "_ISEpL2FhoT_"
      },
      "source": [
        "Возьмем один из примеров. Текст примера содержит множество симптомов. Посмотрим, какие именно модель посчитает более релевантными."
      ]
    },
    {
      "cell_type": "code",
      "execution_count": null,
      "metadata": {
        "scrolled": true,
        "id": "J76N5n1PhoT_",
        "outputId": "03f9fdfc-9ca0-4fde-e586-b39bee8b0210"
      },
      "outputs": [
        {
          "name": "stdout",
          "output_type": "stream",
          "text": [
            " TEXT: жалобы сохраняются прежние : выраженные боли в правой руке, в правом плечевом суставе, локтевом суставе, ограничение движений в правом плечевом суставе, при движениях правой рукой : сгибании , разгибании, поднимании руки вверх - усиливаются боли в  и локтевом суставах по ВАШ 10 баллоов, также сохраняется боль и онемение 4 и 5 пальцев правой руки, простреливающего характера. Головные боли сохраняются, выраженные, преимущественно в затылочной области, постоянные. Лечение получает переносит хорошо. Уменьшились боли в шейном отделе позвоночника \n",
            "\n",
            " LABEL: боль в области плеча\n"
          ]
        }
      ],
      "source": [
        "print(' TEXT:', sentences[6], '\\n\\n' , 'LABEL:', i2l[np.argmax(labels[6])])"
      ]
    },
    {
      "cell_type": "code",
      "execution_count": null,
      "metadata": {
        "id": "S5DVtjC1hoT_"
      },
      "outputs": [],
      "source": [
        "model_predict = RobertaForSequenceClassification.from_pretrained('out_path/RuBioRoBERTa')"
      ]
    },
    {
      "cell_type": "code",
      "execution_count": null,
      "metadata": {
        "id": "IyRjnDcghoUA"
      },
      "outputs": [],
      "source": [
        "def predict(sentence, k):\n",
        "    input_ids, attention_masks = encode_texts(tokenizer, [sentences[6]])\n",
        "    input_ids = torch.tensor(input_ids).long()\n",
        "    attention_masks = torch.tensor(attention_masks).long()\n",
        "    lab = torch.tensor([labels[0]], dtype=torch.float64)\n",
        "\n",
        "    logit = model_predict(input_ids, attention_mask=attention_masks, labels=lab)[1]\n",
        "    top_k = np.argsort(logit[0].detach())[-k:].numpy()\n",
        "    result = [i2l[t] for t in top_k]\n",
        "\n",
        "    return result[::-1]"
      ]
    },
    {
      "cell_type": "code",
      "execution_count": null,
      "metadata": {
        "id": "b-zjYxuwhoUA",
        "outputId": "e5cc0ce7-6c6b-4209-ecd7-422e1add9443"
      },
      "outputs": [
        {
          "data": {
            "text/plain": [
              "['боль в области плеча']"
            ]
          },
          "execution_count": 108,
          "metadata": {},
          "output_type": "execute_result"
        }
      ],
      "source": [
        "predict(sentences[0], 1)"
      ]
    },
    {
      "cell_type": "code",
      "execution_count": null,
      "metadata": {
        "id": "pxuyNhKthoUA",
        "outputId": "6e8225a9-cec3-4ddd-9a36-a322f268d65c"
      },
      "outputs": [
        {
          "data": {
            "text/plain": [
              "['боль в области плеча', 'боль в области лопатки', 'стреляющая боль']"
            ]
          },
          "execution_count": 116,
          "metadata": {},
          "output_type": "execute_result"
        }
      ],
      "source": [
        "predict(sentences[0], 3)"
      ]
    },
    {
      "cell_type": "markdown",
      "metadata": {
        "id": "AOkyiqoIhoUA"
      },
      "source": [
        "Как мы видим, модель достаточно точно определяет группу симптомов относящихся к тексту"
      ]
    },
    {
      "cell_type": "markdown",
      "metadata": {
        "id": "rDqiWQDXJPym"
      },
      "source": [
        "## **7) Результаты**\n",
        "\n",
        "Полученные результаты acc/hit@(%):\n",
        "\n",
        "* RuBERT: 35.42, 48.19\n",
        "* RuBioRoBERTa : 50.12, 62.65\n",
        "\n",
        "Результаты превзошли метрики организаторов."
      ]
    },
    {
      "cell_type": "markdown",
      "metadata": {
        "id": "XkG8ihkDJU99"
      },
      "source": [
        "## **8) Ссылки на источники**\n",
        "\n",
        "* [1] - https://arxiv.org/abs/2201.06499\n",
        "* [2] - https://zenodo.org/records/5765873#.YbBlXT9Bzmw\n",
        "* [3] - https://arxiv.org/abs/1905.07213\n",
        "* [4] - https://arxiv.org/abs/2204.03951\n",
        "* [5] - https://github.com/sb-ai-lab/MedBench/tree/main\n",
        "* [6] - https://arxiv.org/pdf/1412.6980\n",
        "* [7] - https://arxiv.org/pdf/1708.07120"
      ]
    }
  ],
  "metadata": {
    "colab": {
      "provenance": []
    },
    "kaggle": {
      "accelerator": "nvidiaTeslaT4",
      "dataSources": [
        {
          "datasetId": 4824088,
          "sourceId": 8155399,
          "sourceType": "datasetVersion"
        }
      ],
      "dockerImageVersionId": 30684,
      "isGpuEnabled": true,
      "isInternetEnabled": true,
      "language": "python",
      "sourceType": "notebook"
    },
    "kernelspec": {
      "display_name": "bert_v2",
      "language": "python",
      "name": "bert_v2"
    },
    "language_info": {
      "codemirror_mode": {
        "name": "ipython",
        "version": 3
      },
      "file_extension": ".py",
      "mimetype": "text/x-python",
      "name": "python",
      "nbconvert_exporter": "python",
      "pygments_lexer": "ipython3",
      "version": "3.10.13"
    }
  },
  "nbformat": 4,
  "nbformat_minor": 0
}